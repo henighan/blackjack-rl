{
 "cells": [
  {
   "cell_type": "code",
   "execution_count": 5,
   "metadata": {},
   "outputs": [],
   "source": [
    "%reload_ext autoreload\n",
    "%autoreload 2\n",
    "%matplotlib inline\n",
    "\n",
    "import os\n",
    "from matplotlib import pyplot as plt\n",
    "import imageio\n",
    "from blackjack.learners import MonteCarlo\n",
    "from blackjack import visualize"
   ]
  },
  {
   "cell_type": "code",
   "execution_count": 2,
   "metadata": {},
   "outputs": [
    {
     "name": "stdout",
     "output_type": "stream",
     "text": [
      "CPU times: user 1h 20min 4s, sys: 1min 17s, total: 1h 21min 21s\n",
      "Wall time: 1h 20min 36s\n"
     ]
    }
   ],
   "source": [
    "%%time\n",
    "learner = MonteCarlo(name='mc')\n",
    "filenames = []\n",
    "for ii in range(-1, 27):\n",
    "    n_episodes_to_train = 2**max(ii, 0)\n",
    "    learner.train(n_episodes_to_train)\n",
    "    fig, axes = visualize.plot_strategy_card(learner)\n",
    "    filename = 'card_{}.png'.format(ii)\n",
    "    fig.suptitle('{} Training Episodes'.format(learner.n_training_episodes))\n",
    "    fig.tight_layout()\n",
    "    fig.savefig(filename)\n",
    "    filenames.append(filename)\n",
    "    plt.close(fig)\n",
    "images = [imageio.imread(fname) for fname in filenames] + 5*[imageio.imread(filenames[-1])]\n",
    "imageio.mimsave('card.gif', images, 'GIF', duration=0.5)\n",
    "[os.remove(fname) for fname in filenames];"
   ]
  },
  {
   "cell_type": "code",
   "execution_count": 4,
   "metadata": {},
   "outputs": [
    {
     "data": {
      "text/plain": [
       "(<Figure size 432x288 with 2 Axes>,\n",
       " array([<matplotlib.axes._subplots.AxesSubplot object at 0x12a454dd8>,\n",
       "        <matplotlib.axes._subplots.AxesSubplot object at 0x12a494eb8>],\n",
       "       dtype=object))"
      ]
     },
     "execution_count": 4,
     "metadata": {},
     "output_type": "execute_result"
    },
    {
     "data": {
      "image/png": "[encoded data removed]",
      "text/plain": [
       "<Figure size 432x288 with 2 Axes>"
      ]
     },
     "metadata": {
      "needs_background": "light"
     },
     "output_type": "display_data"
    }
   ],
   "source": [
    "visualize.plot_strategy_card(learner)"
   ]
  }
 ],
 "metadata": {
  "kernelspec": {
   "display_name": "Python 3",
   "language": "python",
   "name": "python3"
  },
  "language_info": {
   "codemirror_mode": {
    "name": "ipython",
    "version": 3
   },
   "file_extension": ".py",
   "mimetype": "text/x-python",
   "name": "python",
   "nbconvert_exporter": "python",
   "pygments_lexer": "ipython3",
   "version": "3.6.4"
  }
 },
 "nbformat": 4,
 "nbformat_minor": 2
}
